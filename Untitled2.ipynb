{
  "nbformat": 4,
  "nbformat_minor": 0,
  "metadata": {
    "colab": {
      "provenance": [],
      "toc_visible": true,
      "authorship_tag": "ABX9TyMY3NPRsD5PYYBaczCY0dqs",
      "include_colab_link": true
    },
    "kernelspec": {
      "name": "python3",
      "display_name": "Python 3"
    },
    "language_info": {
      "name": "python"
    }
  },
  "cells": [
    {
      "cell_type": "markdown",
      "metadata": {
        "id": "view-in-github",
        "colab_type": "text"
      },
      "source": [
        "<a href=\"https://colab.research.google.com/github/PodorogaElla/PforA/blob/main/Untitled2.ipynb\" target=\"_parent\"><img src=\"https://colab.research.google.com/assets/colab-badge.svg\" alt=\"Open In Colab\"/></a>"
      ]
    },
    {
      "cell_type": "markdown",
      "source": [
        "####Задача 1"
      ],
      "metadata": {
        "id": "pcOd987V6igl"
      }
    },
    {
      "cell_type": "markdown",
      "source": [
        "Вы провели эксперимент c упрощением формы заказа в магазине Утконос и получили результаты по метрике конверсий в покупку.\n",
        "Выберите метод оценки и оцените есть ли стат.значимые различия между конверсиями в двух группах при alpha = 5%.\n",
        "Дайте краткие рекомендации команде.\n",
        "Результаты:\n",
        "\n",
        "Число юзеров в группах , которые заходили на сайт в период эксперимента: n1 = 15550 и n2 = 15550.\n",
        "Число юзеров в группах , которые совершили хотя бы одну покупку за период эксперимента: n1 = 164 и n2 = 228\n",
        "Конверсии : conv1 = 1.05% conv2 = 1.47%\n",
        "In [2]:\n"
      ],
      "metadata": {
        "id": "cNRhMnv6k0pg"
      }
    },
    {
      "cell_type": "code",
      "source": [
        "import numpy as np\n",
        "import statsmodels.stats.proportion as smp"
      ],
      "metadata": {
        "id": "oTvHRFs5k30l"
      },
      "execution_count": 1,
      "outputs": []
    },
    {
      "cell_type": "code",
      "source": [
        "alpha = 0.05\n",
        "# число успехов в каждой группе\n",
        "successes = np.array([164, 228])\n",
        "\n",
        "# число наблюдений в каждой группе\n",
        "nobs = np.array([15550, 15550])\n",
        "\n",
        "# пропорции успехов в каждой группе\n",
        "proportions = successes / nobs\n",
        "\n",
        "# z-статистика и p-значение\n",
        "zstat, pvalue = smp.proportions_ztest(count=successes, nobs=nobs, value=0, alternative='two-sided')\n",
        "print(zstat)\n",
        "print(pvalue)"
      ],
      "metadata": {
        "colab": {
          "base_uri": "https://localhost:8080/"
        },
        "id": "9Qs1we-omEei",
        "outputId": "ad4b6a29-0bea-4db3-b3ab-d904a6cb06b5"
      },
      "execution_count": 2,
      "outputs": [
        {
          "output_type": "stream",
          "name": "stdout",
          "text": [
            "-3.253054722696254\n",
            "0.001141715077067056\n"
          ]
        }
      ]
    },
    {
      "cell_type": "markdown",
      "source": [
        "На основе z-статистики: -3.253054722696254 и p-value: 0.001141715077067056, можно сделать вывод о статистически значимых различиях между конверсиями в двух группах.\n",
        "\n",
        "Рекомендации команде:\n",
        "на основании результатов эксперимента можно рекомендовать использовать упрощенную форму заказа в магазине Утконос, так как она приводит к более высокой конверсии в покупку."
      ],
      "metadata": {
        "id": "xr65bBTWmT-x"
      }
    },
    {
      "cell_type": "markdown",
      "source": [
        "### Задача 2"
      ],
      "metadata": {
        "id": "GKVavkaM7fMF"
      }
    },
    {
      "cell_type": "markdown",
      "source": [
        "Сравниваем метрику конверсия в покупку. Размер выборки - 10000 элементов в каждой группе.\n",
        "Какой статистический критерий тут лучше всего подойдёт и почему?"
      ],
      "metadata": {
        "id": "BE4lQtzT7oNY"
      }
    },
    {
      "cell_type": "markdown",
      "source": [
        "Для сравнения метрики конверсии в покупку между двумя группами с размером выборки по 10 000 элементов в каждой группе лучше всего использовать z-тест, так как объём выборки достаточно большой (больше 30), что позволяет использовать нормальное распределение для вычисления статистической значимости."
      ],
      "metadata": {
        "id": "LMC1gFDY71se"
      }
    }
  ]
}