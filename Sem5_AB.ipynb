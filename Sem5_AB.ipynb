{
  "nbformat": 4,
  "nbformat_minor": 0,
  "metadata": {
    "colab": {
      "provenance": [],
      "toc_visible": true,
      "authorship_tag": "ABX9TyMgCnzIuuL7PdIlEy2f8k4L",
      "include_colab_link": true
    },
    "kernelspec": {
      "name": "python3",
      "display_name": "Python 3"
    },
    "language_info": {
      "name": "python"
    }
  },
  "cells": [
    {
      "cell_type": "markdown",
      "metadata": {
        "id": "view-in-github",
        "colab_type": "text"
      },
      "source": [
        "<a href=\"https://colab.research.google.com/github/PodorogaElla/PforA/blob/main/Sem5_AB.ipynb\" target=\"_parent\"><img src=\"https://colab.research.google.com/assets/colab-badge.svg\" alt=\"Open In Colab\"/></a>"
      ]
    },
    {
      "cell_type": "markdown",
      "source": [
        "###Задача 1\n",
        "\"                Продакт на главной mail.ru решил протестировать в рекомендательной ленте контента вместо карточек со статьями видеоплеер с короткими видео. Нынешний таймспент на юзера в день в среднем равен 25 минут, а стандартная ошибка (SD) равна 156. Мы предполагаем, что в новой версии таймспент на юзера в день изменится на 10%. Средний трафик 20000 человек в день. Посчитайте сколько дней необходимо держать эксперимент при alpha = 5% и beta = 20% ."
      ],
      "metadata": {
        "id": "4onceBb00jsx"
      }
    },
    {
      "cell_type": "code",
      "source": [
        "# импорт необходимых библиотек\n",
        "from statsmodels.stats.power import tt_ind_solve_power, zt_ind_solve_power\n",
        "from statsmodels.stats.proportion import proportion_effectsize\n",
        "from statsmodels.stats.meta_analysis import effectsize_smd\n",
        "from typing import Union\n",
        "import plotly.graph_objects as go\n",
        "from scipy import stats\n",
        "from math import asin\n",
        "import numpy as np"
      ],
      "metadata": {
        "id": "lzVguEve6p9z"
      },
      "execution_count": null,
      "outputs": []
    },
    {
      "cell_type": "markdown",
      "source": [
        "Показатель time speeak количественный используем TT тест"
      ],
      "metadata": {
        "id": "t05_4JCU7UUk"
      }
    },
    {
      "cell_type": "code",
      "source": [
        "def calc_proportion_es(prob1: float, prob2: float):\n",
        "\n",
        "    return abs(proportion_effectsize(prob1, prob2))\n",
        "\n",
        "def calc_proportion_es_alt(conv1: float, conv2:float, prob1:float, prob2: float):\n",
        "\n",
        "    return 2  * asin(np.sqrt(conv1/nobs1)) - 2 * asin(np.sqrt(conv2/nobs2))\n",
        "\n",
        "def calc_continuous_es(mean_control: Union[float, int],\n",
        "                       std_control: Union[float, int],\n",
        "                       mean_test: Union[float, int],\n",
        "                       std_test: Union[float, int]):\n",
        "\n",
        "    return abs(effectsize_smd(mean_control,\n",
        "                              std_control,\n",
        "                              1e4,\n",
        "                              mean_test,\n",
        "                              std_test,\n",
        "                              1e4)[0])\n",
        "\n",
        "def calc_continuous_es_alt(mean_control: Union[float, int],\n",
        "                           std_control: Union[float, int],\n",
        "                           mean_test: Union[float, int],\n",
        "                           std_test: Union[float, int]):\n",
        "\n",
        "    effect_size = (mean_test - mean_control) / ((std_control**2 + std_test**2) / 2) ** 0.5\n",
        "    return effect_size\n",
        "\n",
        "def calc_sample_size_continuous(effect_size: float,\n",
        "                     alpha: float = .05,\n",
        "                     beta: float = .2,\n",
        "                     ratio: Union[float, int] = 1):\n",
        "\n",
        "    n = tt_ind_solve_power(effect_size=effect_size,\n",
        "                           alpha=alpha,\n",
        "                           power=(1 - beta),\n",
        "                           ratio=ratio,\n",
        "                  )\n",
        "    return int(n * 2)\n",
        "\n",
        "def calc_sample_size_proportion(effect_size: float,\n",
        "                     alpha: float = .05,\n",
        "                     beta: float = .2,\n",
        "                     ratio: Union[float, int] = 1):\n",
        "\n",
        "    n = zt_ind_solve_power(effect_size=effect_size,\n",
        "                           alpha=alpha,\n",
        "                           power=(1 - beta),\n",
        "                           ratio=ratio,\n",
        "                  )\n",
        "    return int(n * 2)"
      ],
      "metadata": {
        "id": "Gaz-XGSC7efB"
      },
      "execution_count": null,
      "outputs": []
    },
    {
      "cell_type": "code",
      "source": [
        "ts_control, ts_test = 25, 27.5\n",
        "std_control, std_test = 156, 156 * 1.15\n",
        "\n",
        "es_cont = calc_continuous_es(ts_control, std_control, ts_test, std_test)\n",
        "es_cont_alt = calc_continuous_es_alt(ts_control, std_control, ts_test, std_test)\n",
        "es_cont, es_cont_alt"
      ],
      "metadata": {
        "id": "Zmm0HL-87H6b",
        "colab": {
          "base_uri": "https://localhost:8080/"
        },
        "outputId": "1e455b30-e76e-4acd-d209-5ec113acb97f"
      },
      "execution_count": null,
      "outputs": [
        {
          "output_type": "execute_result",
          "data": {
            "text/plain": [
              "(0.014870865944557932, 0.014871423685692022)"
            ]
          },
          "metadata": {},
          "execution_count": 5
        }
      ]
    },
    {
      "cell_type": "code",
      "source": [
        "calc_sample_size_continuous(es_cont), calc_sample_size_continuous(es_cont_alt)\n"
      ],
      "metadata": {
        "colab": {
          "base_uri": "https://localhost:8080/"
        },
        "id": "jrgwUjPB7_dZ",
        "outputId": "64bc1a89-7f8e-43fa-acb5-08151037732d"
      },
      "execution_count": null,
      "outputs": [
        {
          "output_type": "stream",
          "name": "stderr",
          "text": [
            "/usr/local/lib/python3.10/dist-packages/scipy/stats/_continuous_distns.py:6832: RuntimeWarning: invalid value encountered in _nct_sf\n",
            "  return np.clip(_boost._nct_sf(x, df, nc), 0, 1)\n",
            "/usr/local/lib/python3.10/dist-packages/scipy/stats/_continuous_distns.py:6826: RuntimeWarning: invalid value encountered in _nct_cdf\n",
            "  return np.clip(_boost._nct_cdf(x, df, nc), 0, 1)\n"
          ]
        },
        {
          "output_type": "execute_result",
          "data": {
            "text/plain": [
              "(141971, 141960)"
            ]
          },
          "metadata": {},
          "execution_count": 7
        }
      ]
    },
    {
      "cell_type": "code",
      "source": [
        "DAU = 20000"
      ],
      "metadata": {
        "id": "vbLUn04n8aR_"
      },
      "execution_count": null,
      "outputs": []
    },
    {
      "cell_type": "code",
      "source": [
        "res = 141971 / DAU\n",
        "res"
      ],
      "metadata": {
        "colab": {
          "base_uri": "https://localhost:8080/"
        },
        "id": "4h8-fucB8fMh",
        "outputId": "a510dd03-a5db-4b14-e3ab-b06fd4cf5240"
      },
      "execution_count": null,
      "outputs": [
        {
          "output_type": "execute_result",
          "data": {
            "text/plain": [
              "7.09855"
            ]
          },
          "metadata": {},
          "execution_count": 9
        }
      ]
    },
    {
      "cell_type": "markdown",
      "source": [
        "Ответ: длительность теста составляет 7 дней"
      ],
      "metadata": {
        "id": "1qRy6GYz8nPn"
      }
    },
    {
      "cell_type": "markdown",
      "source": [
        "###Задача 2\n",
        "Наша продуктовая команда в ecommerce магазине планирует запустить тест, направленный на ускорение загрузки сайта. Одна из основных метрик bounce rate в GA = 40%. Мы предполагаем, что при оптимизации сайта она изменится минимум на 20%.Средний трафик 4000 человек в день. Посчитайте сколько нам нужно дней держать эксперимент при alpha = 5% и beta = 20%"
      ],
      "metadata": {
        "id": "htLzj5E787X9"
      }
    },
    {
      "cell_type": "markdown",
      "source": [
        "Отказы - показатель качественный, т к проценты"
      ],
      "metadata": {
        "id": "75LOSNpD9Zo0"
      }
    },
    {
      "cell_type": "code",
      "source": [
        "\n",
        "BR_1, BR_2 = 0.40, 0.32\n",
        "\n",
        "es_prop = calc_proportion_es(BR_1, BR_2)\n",
        "es_prop"
      ],
      "metadata": {
        "colab": {
          "base_uri": "https://localhost:8080/"
        },
        "id": "l44vc5xC9l8l",
        "outputId": "bf300c35-26c0-4a2d-85da-830567d740ff"
      },
      "execution_count": null,
      "outputs": [
        {
          "output_type": "execute_result",
          "data": {
            "text/plain": [
              "0.16690997264630925"
            ]
          },
          "metadata": {},
          "execution_count": 10
        }
      ]
    },
    {
      "cell_type": "code",
      "source": [
        "calc_sample_size_proportion(es_prop)"
      ],
      "metadata": {
        "colab": {
          "base_uri": "https://localhost:8080/"
        },
        "id": "01DKzRiX9sTg",
        "outputId": "971a033f-d055-44a1-e2f1-fdddd06ba746"
      },
      "execution_count": null,
      "outputs": [
        {
          "output_type": "execute_result",
          "data": {
            "text/plain": [
              "1126"
            ]
          },
          "metadata": {},
          "execution_count": 11
        }
      ]
    },
    {
      "cell_type": "code",
      "source": [
        "DAU = 4000"
      ],
      "metadata": {
        "id": "h8NRYneO9x-v"
      },
      "execution_count": null,
      "outputs": []
    },
    {
      "cell_type": "code",
      "source": [
        "res = 1126 / DAU\n",
        "res"
      ],
      "metadata": {
        "colab": {
          "base_uri": "https://localhost:8080/"
        },
        "id": "T_ZyKFdH92WJ",
        "outputId": "27457200-9de7-4e3d-e38f-cededa1e65c3"
      },
      "execution_count": null,
      "outputs": [
        {
          "output_type": "execute_result",
          "data": {
            "text/plain": [
              "0.2815"
            ]
          },
          "metadata": {},
          "execution_count": 13
        }
      ]
    },
    {
      "cell_type": "markdown",
      "source": [
        "Ответ: длительность теста составляет 0.28 дня"
      ],
      "metadata": {
        "id": "E6adPPYH-ABR"
      }
    }
  ]
}